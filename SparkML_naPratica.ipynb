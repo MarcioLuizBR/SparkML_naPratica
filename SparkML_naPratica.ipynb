{
  "nbformat": 4,
  "nbformat_minor": 0,
  "metadata": {
    "colab": {
      "provenance": [],
      "authorship_tag": "ABX9TyO1yCFma6+7P+NdOs78syUx",
      "include_colab_link": true
    },
    "kernelspec": {
      "name": "python3",
      "display_name": "Python 3"
    },
    "language_info": {
      "name": "python"
    }
  },
  "cells": [
    {
      "cell_type": "markdown",
      "metadata": {
        "id": "view-in-github",
        "colab_type": "text"
      },
      "source": [
        "<a href=\"https://colab.research.google.com/github/MarcioLuizBR/SparkML_naPratica/blob/main/SparkML_naPratica.ipynb\" target=\"_parent\"><img src=\"https://colab.research.google.com/assets/colab-badge.svg\" alt=\"Open In Colab\"/></a>"
      ]
    },
    {
      "cell_type": "code",
      "source": [
        "!pip install -U pyspark==3.5.1 cloudpickle==2.2.1\n"
      ],
      "metadata": {
        "colab": {
          "base_uri": "https://localhost:8080/"
        },
        "id": "zjOHPi6ZrXHc",
        "outputId": "60f7eb32-6768-436d-cd9b-86210263eb96"
      },
      "execution_count": null,
      "outputs": [
        {
          "output_type": "stream",
          "name": "stdout",
          "text": [
            "Requirement already satisfied: pyspark==3.5.1 in /usr/local/lib/python3.11/dist-packages (3.5.1)\n",
            "Requirement already satisfied: cloudpickle==2.2.1 in /usr/local/lib/python3.11/dist-packages (2.2.1)\n",
            "Requirement already satisfied: py4j==0.10.9.7 in /usr/local/lib/python3.11/dist-packages (from pyspark==3.5.1) (0.10.9.7)\n"
          ]
        }
      ]
    },
    {
      "cell_type": "code",
      "execution_count": 1,
      "metadata": {
        "id": "gq__nzji9mkh",
        "colab": {
          "base_uri": "https://localhost:8080/"
        },
        "outputId": "6d1ae356-531a-479d-88cb-0285640ceb4b"
      },
      "outputs": [
        {
          "output_type": "stream",
          "name": "stdout",
          "text": [
            "Archive:  ngrok.zip\n",
            "  inflating: ngrok                   \n",
            "Authtoken saved to configuration file: /root/.config/ngrok/ngrok.yml\n",
            "⏳ Aguardando o ngrok iniciar...\n",
            "✅ Spark UI está acessível em:\n",
            "👉 https://7d80-34-138-204-127.ngrok-free.app\n"
          ]
        }
      ],
      "source": [
        "# ⬇️ Instala Java, Spark e findspark\n",
        "!apt-get install openjdk-11-jdk-headless -qq > /dev/null\n",
        "!wget -q https://archive.apache.org/dist/spark/spark-3.3.2/spark-3.3.2-bin-hadoop3.tgz\n",
        "!tar xf spark-3.3.2-bin-hadoop3.tgz\n",
        "!pip install -q findspark\n",
        "\n",
        "# ⬇️ Define variáveis de ambiente\n",
        "import os\n",
        "os.environ[\"JAVA_HOME\"] = \"/usr/lib/jvm/java-11-openjdk-amd64\"\n",
        "os.environ[\"SPARK_HOME\"] = \"/content/spark-3.3.2-bin-hadoop3\"\n",
        "\n",
        "import findspark\n",
        "findspark.init()\n",
        "\n",
        "\n",
        "# ⬇️ Instala ngrok v3 e adiciona o authtoken\n",
        "!rm -f ngrok ngrok.zip\n",
        "!wget -q -O ngrok.zip https://bin.equinox.io/c/bNyj1mQVY4c/ngrok-v3-stable-linux-amd64.zip\n",
        "!unzip -o ngrok.zip\n",
        "!chmod +x ngrok\n",
        "\n",
        "from google.colab import userdata\n",
        "\n",
        "ngrok_token = userdata.get('Ngrok')\n",
        "if ngrok_token:\n",
        "    !./ngrok config add-authtoken {ngrok_token}\n",
        "else:\n",
        "    raise ValueError(\"Token do ngrok não encontrado. Adicione-o em 'Secrets' com o nome 'NGROK_TOKEN'.\")\n",
        "\n",
        "# ⬇️ Inicia o túnel ngrok para a Spark UI (porta 4050)\n",
        "get_ipython().system_raw('./ngrok http 4050 &')\n",
        "\n",
        "\n",
        "# abertura de sessão do Spark\n",
        "from pyspark.sql import SparkSession\n",
        "\n",
        "spark = SparkSession.builder \\\n",
        "    .appName(\"Estudo SparkSQL\") \\\n",
        "    .config(\"spark.ui.port\", \"4050\") \\\n",
        "    .getOrCreate()\n",
        "\n",
        "# ⬇️ Tenta obter a URL pública do ngrok com várias tentativas\n",
        "import time\n",
        "import urllib.request\n",
        "import json\n",
        "\n",
        "print(\"⏳ Aguardando o ngrok iniciar...\")\n",
        "\n",
        "public_url = None\n",
        "for i in range(10):  # tenta por até 10 vezes (com 2s de intervalo)\n",
        "    try:\n",
        "        with urllib.request.urlopen(\"http://localhost:4040/api/tunnels\") as response:\n",
        "            data = json.load(response)\n",
        "            public_url = data['tunnels'][0]['public_url']\n",
        "            break\n",
        "    except:\n",
        "        time.sleep(2)\n",
        "\n",
        "# ⬇️ Resultado final\n",
        "if public_url:\n",
        "    print(f\"✅ Spark UI está acessível em:\\n👉 {public_url}\")\n",
        "else:\n",
        "    print(\"❌ Erro: não foi possível obter a URL pública do ngrok.\")\n",
        "\n"
      ]
    },
    {
      "cell_type": "code",
      "source": [
        "from google.colab import drive\n",
        "drive.mount('/content/drive')"
      ],
      "metadata": {
        "colab": {
          "base_uri": "https://localhost:8080/"
        },
        "id": "L_QvRwVYJnXk",
        "outputId": "55e33f49-6fbd-4eee-f4bd-c91f2f1e1f9c"
      },
      "execution_count": 2,
      "outputs": [
        {
          "output_type": "stream",
          "name": "stdout",
          "text": [
            "Mounted at /content/drive\n"
          ]
        }
      ]
    },
    {
      "cell_type": "code",
      "source": [
        "from pyspark.sql.types import (StructType, StructField,\n",
        "                               IntegerType, DoubleType,\n",
        "                               StringType, TimestampType)\n",
        "\n",
        "\n",
        "schema_remetente_destinatario = StructType([\n",
        "    StructField(\"nome\",  StringType(), True),\n",
        "    StructField(\"banco\", StringType(), True),\n",
        "    StructField(\"tipo\",  StringType(), True),\n",
        "])\n",
        "\n",
        "schema_pix = StructType([\n",
        "    StructField(\"id_transacao\",    IntegerType(),  True),\n",
        "    StructField(\"valor\",           DoubleType(),   True),\n",
        "    StructField(\"remetente\",       schema_remetente_destinatario, True),\n",
        "    StructField(\"destinatario\",    schema_remetente_destinatario, True),\n",
        "    StructField(\"chave_pix\",       StringType(),   True),\n",
        "    StructField(\"categoria\",       StringType(),   True),\n",
        "    StructField(\"transaction_date\",StringType(), True),\n",
        "    StructField(\"fraude\",          IntegerType(),  True)\n",
        "])\n",
        "\n",
        "caminho_json = \"/content/drive/MyDrive/arquivos e bancos de dados/case_final.json\"\n",
        "\n",
        "df = spark.read.json(\n",
        "    caminho_json,\n",
        "    schema=schema_pix,\n",
        ")"
      ],
      "metadata": {
        "id": "A2qEWs2MJIpY"
      },
      "execution_count": 3,
      "outputs": []
    },
    {
      "cell_type": "code",
      "source": [
        "from pyspark.sql.functions import date_format\n",
        "\n",
        "df = df.withColumn(\"transaction_date\", date_format(\"transaction_date\", \"yyyy-MM-dd HH:mm:ss\"))\n",
        "\n",
        "df.show(truncate=False)"
      ],
      "metadata": {
        "colab": {
          "base_uri": "https://localhost:8080/"
        },
        "id": "IrsSixpDKdWI",
        "outputId": "a4722b20-9d4d-4c8e-e914-450d4c39ee83"
      },
      "execution_count": 4,
      "outputs": [
        {
          "output_type": "stream",
          "name": "stdout",
          "text": [
            "+------------+------------------+-----------------------------+------------------------------------+---------+-------------+-------------------+------+\n",
            "|id_transacao|valor             |remetente                    |destinatario                        |chave_pix|categoria    |transaction_date   |fraude|\n",
            "+------------+------------------+-----------------------------+------------------------------------+---------+-------------+-------------------+------+\n",
            "|1000        |588.08            |{Jonathan Gonsalves, BTG, PF}|{Calebe Melo, Caixa, PF}            |aleatoria|outros       |2021-07-16 05:00:55|0     |\n",
            "|1001        |80682.5           |{Jonathan Gonsalves, BTG, PF}|{Davi Lucas Pereira, Caixa, PJ}     |celular  |transferencia|2022-04-20 12:34:01|1     |\n",
            "|1002        |549.9             |{Jonathan Gonsalves, BTG, PF}|{Sabrina Castro, Nubank, PF}        |cpf      |lazer        |2022-07-10 16:51:34|0     |\n",
            "|1003        |90.83             |{Jonathan Gonsalves, BTG, PF}|{Francisco da Conceicao, Nubank, PJ}|aleatoria|transporte   |2022-10-20 10:57:36|0     |\n",
            "|1004        |13272.619999999999|{Jonathan Gonsalves, BTG, PF}|{Isabelly Ferreira, BTG, PJ}        |email    |transferencia|2021-04-06 20:26:51|0     |\n",
            "|1005        |9347.58           |{Jonathan Gonsalves, BTG, PF}|{Srta. Maria da Cunha, Itau, PJ}    |aleatoria|saude        |2022-07-24 15:22:27|0     |\n",
            "|1006        |7836.76           |{Jonathan Gonsalves, BTG, PF}|{Catarina Duarte, C6, PF}           |cpf      |presentes    |2022-10-05 19:20:24|0     |\n",
            "|1007        |3883.62           |{Jonathan Gonsalves, BTG, PF}|{Vitor Correia, XP, PJ}             |cpf      |vestuario    |2021-04-24 17:36:34|0     |\n",
            "|1008        |4.0               |{Jonathan Gonsalves, BTG, PF}|{Theo Novaes, C6, PJ}               |aleatoria|saude        |2021-11-16 21:46:47|0     |\n",
            "|1009        |24.3              |{Jonathan Gonsalves, BTG, PF}|{Isabel Caldeira, XP, PJ}           |cpf      |transferencia|2021-07-26 02:08:49|0     |\n",
            "|1010        |87555.3           |{Jonathan Gonsalves, BTG, PF}|{Sr. Henrique Cardoso, Nubank, PF}  |aleatoria|transferencia|2022-03-14 15:34:45|1     |\n",
            "|1011        |21345.91          |{Jonathan Gonsalves, BTG, PF}|{Felipe Cavalcanti, Nubank, PJ}     |cpf      |transferencia|2021-10-31 04:31:51|1     |\n",
            "|1012        |73605.85          |{Jonathan Gonsalves, BTG, PF}|{Dr. Davi da Luz, Bradesco, PJ}     |celular  |transferencia|2021-04-30 19:19:56|1     |\n",
            "|1013        |93.53             |{Jonathan Gonsalves, BTG, PF}|{Stephany Cardoso, C6, PJ}          |cpf      |alimentacao  |2023-01-13 13:39:57|0     |\n",
            "|1014        |564.11            |{Jonathan Gonsalves, BTG, PF}|{Sra. Julia Araujo, Itau, PJ}       |aleatoria|vestuario    |2022-05-27 23:06:08|0     |\n",
            "|1015        |3.59              |{Jonathan Gonsalves, BTG, PF}|{Carolina Farias, Nubank, PJ}       |email    |saude        |2021-10-06 21:19:58|0     |\n",
            "|1016        |19164.89          |{Jonathan Gonsalves, BTG, PF}|{Isabelly da Costa, Nubank, PJ}     |email    |alimentacao  |2022-03-06 17:59:43|0     |\n",
            "|1017        |68.45             |{Jonathan Gonsalves, BTG, PF}|{Joao Miguel Silveira, C6, PJ}      |aleatoria|vestuario    |2022-04-01 18:17:40|0     |\n",
            "|1018        |941.25            |{Jonathan Gonsalves, BTG, PF}|{Matheus Moura, C6, PF}             |celular  |vestuario    |2022-05-23 00:28:13|0     |\n",
            "|1019        |27009.910000000003|{Jonathan Gonsalves, BTG, PF}|{Gabrielly Goncalves, Itau, PJ}     |email    |transferencia|2021-08-04 23:22:37|1     |\n",
            "+------------+------------------+-----------------------------+------------------------------------+---------+-------------+-------------------+------+\n",
            "only showing top 20 rows\n",
            "\n"
          ]
        }
      ]
    },
    {
      "cell_type": "code",
      "source": [
        "from pyspark.sql.functions import *\n",
        "\n",
        "df_flatten = df.withColumns({\n",
        "    \"destinatario_nome\": col(\"destinatario\").getField('nome'),\n",
        "    \"destinatario_banco\": col(\"destinatario\").getField('banco'),\n",
        "    \"destinatario_tipo\": col(\"destinatario\").getField('tipo'),\n",
        "}).drop(\"destinatario\", \"remetente\")"
      ],
      "metadata": {
        "id": "yfNQ18tjK3K_"
      },
      "execution_count": 5,
      "outputs": []
    },
    {
      "cell_type": "code",
      "source": [
        "df_flatten.printSchema()\n",
        "df_flatten.show(truncate=False)"
      ],
      "metadata": {
        "colab": {
          "base_uri": "https://localhost:8080/"
        },
        "id": "xykSlZyUJMDR",
        "outputId": "5f1248e4-350c-48ca-a7ef-e68e32df9f82"
      },
      "execution_count": 6,
      "outputs": [
        {
          "output_type": "stream",
          "name": "stdout",
          "text": [
            "root\n",
            " |-- id_transacao: integer (nullable = true)\n",
            " |-- valor: double (nullable = true)\n",
            " |-- chave_pix: string (nullable = true)\n",
            " |-- categoria: string (nullable = true)\n",
            " |-- transaction_date: string (nullable = true)\n",
            " |-- fraude: integer (nullable = true)\n",
            " |-- destinatario_nome: string (nullable = true)\n",
            " |-- destinatario_banco: string (nullable = true)\n",
            " |-- destinatario_tipo: string (nullable = true)\n",
            "\n",
            "+------------+------------------+---------+-------------+-------------------+------+----------------------+------------------+-----------------+\n",
            "|id_transacao|valor             |chave_pix|categoria    |transaction_date   |fraude|destinatario_nome     |destinatario_banco|destinatario_tipo|\n",
            "+------------+------------------+---------+-------------+-------------------+------+----------------------+------------------+-----------------+\n",
            "|1000        |588.08            |aleatoria|outros       |2021-07-16 05:00:55|0     |Calebe Melo           |Caixa             |PF               |\n",
            "|1001        |80682.5           |celular  |transferencia|2022-04-20 12:34:01|1     |Davi Lucas Pereira    |Caixa             |PJ               |\n",
            "|1002        |549.9             |cpf      |lazer        |2022-07-10 16:51:34|0     |Sabrina Castro        |Nubank            |PF               |\n",
            "|1003        |90.83             |aleatoria|transporte   |2022-10-20 10:57:36|0     |Francisco da Conceicao|Nubank            |PJ               |\n",
            "|1004        |13272.619999999999|email    |transferencia|2021-04-06 20:26:51|0     |Isabelly Ferreira     |BTG               |PJ               |\n",
            "|1005        |9347.58           |aleatoria|saude        |2022-07-24 15:22:27|0     |Srta. Maria da Cunha  |Itau              |PJ               |\n",
            "|1006        |7836.76           |cpf      |presentes    |2022-10-05 19:20:24|0     |Catarina Duarte       |C6                |PF               |\n",
            "|1007        |3883.62           |cpf      |vestuario    |2021-04-24 17:36:34|0     |Vitor Correia         |XP                |PJ               |\n",
            "|1008        |4.0               |aleatoria|saude        |2021-11-16 21:46:47|0     |Theo Novaes           |C6                |PJ               |\n",
            "|1009        |24.3              |cpf      |transferencia|2021-07-26 02:08:49|0     |Isabel Caldeira       |XP                |PJ               |\n",
            "|1010        |87555.3           |aleatoria|transferencia|2022-03-14 15:34:45|1     |Sr. Henrique Cardoso  |Nubank            |PF               |\n",
            "|1011        |21345.91          |cpf      |transferencia|2021-10-31 04:31:51|1     |Felipe Cavalcanti     |Nubank            |PJ               |\n",
            "|1012        |73605.85          |celular  |transferencia|2021-04-30 19:19:56|1     |Dr. Davi da Luz       |Bradesco          |PJ               |\n",
            "|1013        |93.53             |cpf      |alimentacao  |2023-01-13 13:39:57|0     |Stephany Cardoso      |C6                |PJ               |\n",
            "|1014        |564.11            |aleatoria|vestuario    |2022-05-27 23:06:08|0     |Sra. Julia Araujo     |Itau              |PJ               |\n",
            "|1015        |3.59              |email    |saude        |2021-10-06 21:19:58|0     |Carolina Farias       |Nubank            |PJ               |\n",
            "|1016        |19164.89          |email    |alimentacao  |2022-03-06 17:59:43|0     |Isabelly da Costa     |Nubank            |PJ               |\n",
            "|1017        |68.45             |aleatoria|vestuario    |2022-04-01 18:17:40|0     |Joao Miguel Silveira  |C6                |PJ               |\n",
            "|1018        |941.25            |celular  |vestuario    |2022-05-23 00:28:13|0     |Matheus Moura         |C6                |PF               |\n",
            "|1019        |27009.910000000003|email    |transferencia|2021-08-04 23:22:37|1     |Gabrielly Goncalves   |Itau              |PJ               |\n",
            "+------------+------------------+---------+-------------+-------------------+------+----------------------+------------------+-----------------+\n",
            "only showing top 20 rows\n",
            "\n"
          ]
        }
      ]
    },
    {
      "cell_type": "code",
      "source": [
        "from pyspark.ml.feature import StringIndexer\n",
        "\n",
        "indexer = StringIndexer(\n",
        "    inputCols=[\n",
        "        \"destinatario_nome\",\n",
        "        \"destinatario_banco\",\n",
        "        \"destinatario_tipo\",\n",
        "        \"categoria\",\n",
        "        \"chave_pix\"\n",
        "    ],\n",
        "    outputCols=[\n",
        "        \"destinatario_nome_index\",\n",
        "        \"destinatario_banco_index\",\n",
        "        \"destinatario_tipo_index\",\n",
        "        \"categoria_index\",\n",
        "        \"chave_pix_index\"\n",
        "    ]\n",
        ")\n",
        "\n",
        "df_index = indexer.fit(df_flatten).transform(df_flatten)"
      ],
      "metadata": {
        "id": "q3e6gJisMqdH"
      },
      "execution_count": 7,
      "outputs": []
    },
    {
      "cell_type": "code",
      "source": [
        "df_index.printSchema()\n",
        "df_index.show(truncate=False)"
      ],
      "metadata": {
        "colab": {
          "base_uri": "https://localhost:8080/"
        },
        "id": "mO1_lrENN1rG",
        "outputId": "f00d28ed-dd63-4f68-e6d5-28b0ecf09022"
      },
      "execution_count": 8,
      "outputs": [
        {
          "output_type": "stream",
          "name": "stdout",
          "text": [
            "root\n",
            " |-- id_transacao: integer (nullable = true)\n",
            " |-- valor: double (nullable = true)\n",
            " |-- chave_pix: string (nullable = true)\n",
            " |-- categoria: string (nullable = true)\n",
            " |-- transaction_date: string (nullable = true)\n",
            " |-- fraude: integer (nullable = true)\n",
            " |-- destinatario_nome: string (nullable = true)\n",
            " |-- destinatario_banco: string (nullable = true)\n",
            " |-- destinatario_tipo: string (nullable = true)\n",
            " |-- destinatario_nome_index: double (nullable = false)\n",
            " |-- destinatario_banco_index: double (nullable = false)\n",
            " |-- destinatario_tipo_index: double (nullable = false)\n",
            " |-- categoria_index: double (nullable = false)\n",
            " |-- chave_pix_index: double (nullable = false)\n",
            "\n",
            "+------------+------------------+---------+-------------+-------------------+------+----------------------+------------------+-----------------+-----------------------+------------------------+-----------------------+---------------+---------------+\n",
            "|id_transacao|valor             |chave_pix|categoria    |transaction_date   |fraude|destinatario_nome     |destinatario_banco|destinatario_tipo|destinatario_nome_index|destinatario_banco_index|destinatario_tipo_index|categoria_index|chave_pix_index|\n",
            "+------------+------------------+---------+-------------+-------------------+------+----------------------+------------------+-----------------+-----------------------+------------------------+-----------------------+---------------+---------------+\n",
            "|1000        |588.08            |aleatoria|outros       |2021-07-16 05:00:55|0     |Calebe Melo           |Caixa             |PF               |12045.0                |4.0                     |1.0                    |6.0            |3.0            |\n",
            "|1001        |80682.5           |celular  |transferencia|2022-04-20 12:34:01|1     |Davi Lucas Pereira    |Caixa             |PJ               |259.0                  |4.0                     |0.0                    |0.0            |2.0            |\n",
            "|1002        |549.9             |cpf      |lazer        |2022-07-10 16:51:34|0     |Sabrina Castro        |Nubank            |PF               |132.0                  |2.0                     |1.0                    |4.0            |1.0            |\n",
            "|1003        |90.83             |aleatoria|transporte   |2022-10-20 10:57:36|0     |Francisco da Conceicao|Nubank            |PJ               |10475.0                |2.0                     |0.0                    |8.0            |3.0            |\n",
            "|1004        |13272.619999999999|email    |transferencia|2021-04-06 20:26:51|0     |Isabelly Ferreira     |BTG               |PJ               |4159.0                 |1.0                     |0.0                    |0.0            |0.0            |\n",
            "|1005        |9347.58           |aleatoria|saude        |2022-07-24 15:22:27|0     |Srta. Maria da Cunha  |Itau              |PJ               |26853.0                |3.0                     |0.0                    |3.0            |3.0            |\n",
            "|1006        |7836.76           |cpf      |presentes    |2022-10-05 19:20:24|0     |Catarina Duarte       |C6                |PF               |5578.0                 |5.0                     |1.0                    |7.0            |1.0            |\n",
            "|1007        |3883.62           |cpf      |vestuario    |2021-04-24 17:36:34|0     |Vitor Correia         |XP                |PJ               |13528.0                |0.0                     |0.0                    |2.0            |1.0            |\n",
            "|1008        |4.0               |aleatoria|saude        |2021-11-16 21:46:47|0     |Theo Novaes           |C6                |PJ               |1141.0                 |5.0                     |0.0                    |3.0            |3.0            |\n",
            "|1009        |24.3              |cpf      |transferencia|2021-07-26 02:08:49|0     |Isabel Caldeira       |XP                |PJ               |8369.0                 |0.0                     |0.0                    |0.0            |1.0            |\n",
            "|1010        |87555.3           |aleatoria|transferencia|2022-03-14 15:34:45|1     |Sr. Henrique Cardoso  |Nubank            |PF               |22115.0                |2.0                     |1.0                    |0.0            |3.0            |\n",
            "|1011        |21345.91          |cpf      |transferencia|2021-10-31 04:31:51|1     |Felipe Cavalcanti     |Nubank            |PJ               |5897.0                 |2.0                     |0.0                    |0.0            |1.0            |\n",
            "|1012        |73605.85          |celular  |transferencia|2021-04-30 19:19:56|1     |Dr. Davi da Luz       |Bradesco          |PJ               |12212.0                |6.0                     |0.0                    |0.0            |2.0            |\n",
            "|1013        |93.53             |cpf      |alimentacao  |2023-01-13 13:39:57|0     |Stephany Cardoso      |C6                |PJ               |10.0                   |5.0                     |0.0                    |1.0            |1.0            |\n",
            "|1014        |564.11            |aleatoria|vestuario    |2022-05-27 23:06:08|0     |Sra. Julia Araujo     |Itau              |PJ               |24413.0                |3.0                     |0.0                    |2.0            |3.0            |\n",
            "|1015        |3.59              |email    |saude        |2021-10-06 21:19:58|0     |Carolina Farias       |Nubank            |PJ               |10121.0                |2.0                     |0.0                    |3.0            |0.0            |\n",
            "|1016        |19164.89          |email    |alimentacao  |2022-03-06 17:59:43|0     |Isabelly da Costa     |Nubank            |PJ               |6122.0                 |2.0                     |0.0                    |1.0            |0.0            |\n",
            "|1017        |68.45             |aleatoria|vestuario    |2022-04-01 18:17:40|0     |Joao Miguel Silveira  |C6                |PJ               |6214.0                 |5.0                     |0.0                    |2.0            |3.0            |\n",
            "|1018        |941.25            |celular  |vestuario    |2022-05-23 00:28:13|0     |Matheus Moura         |C6                |PF               |1829.0                 |5.0                     |1.0                    |2.0            |2.0            |\n",
            "|1019        |27009.910000000003|email    |transferencia|2021-08-04 23:22:37|1     |Gabrielly Goncalves   |Itau              |PJ               |5973.0                 |3.0                     |0.0                    |0.0            |0.0            |\n",
            "+------------+------------------+---------+-------------+-------------------+------+----------------------+------------------+-----------------+-----------------------+------------------------+-----------------------+---------------+---------------+\n",
            "only showing top 20 rows\n",
            "\n"
          ]
        }
      ]
    },
    {
      "cell_type": "code",
      "source": [
        "is_fraud = df_index.filter(col(\"fraude\") == 1)\n",
        "no_fraud = df_index.filter(col(\"fraude\") == 0)"
      ],
      "metadata": {
        "id": "1chsTp1jRYRd"
      },
      "execution_count": 9,
      "outputs": []
    },
    {
      "cell_type": "code",
      "source": [
        "no_fraud = no_fraud.sample(False, 0.01, seed=123)"
      ],
      "metadata": {
        "id": "Y7RYj1lzSGIm"
      },
      "execution_count": 10,
      "outputs": []
    },
    {
      "cell_type": "code",
      "source": [
        "df_concat = no_fraud.union(is_fraud)\n",
        "df = df_concat.sort(\"transaction_date\")\n",
        "df.count()"
      ],
      "metadata": {
        "colab": {
          "base_uri": "https://localhost:8080/"
        },
        "id": "G2WKQQzwSzlA",
        "outputId": "dd47cc6a-3232-42ed-ce53-40ef38bd3cd3"
      },
      "execution_count": 11,
      "outputs": [
        {
          "output_type": "execute_result",
          "data": {
            "text/plain": [
              "16202"
            ]
          },
          "metadata": {},
          "execution_count": 11
        }
      ]
    },
    {
      "cell_type": "code",
      "source": [
        "train, test = df.randomSplit([0.7, 0.3], seed=123)\n",
        "\n",
        "\n",
        "print(\"train =\",train.count(),\"test =\",test.count())"
      ],
      "metadata": {
        "colab": {
          "base_uri": "https://localhost:8080/"
        },
        "id": "609QCo3STRrI",
        "outputId": "049f374b-0890-47c8-ccf9-7155f590509a"
      },
      "execution_count": 12,
      "outputs": [
        {
          "output_type": "stream",
          "name": "stdout",
          "text": [
            "train = 11278 test = 4924\n"
          ]
        }
      ]
    },
    {
      "cell_type": "code",
      "source": [
        "# Em vez de usar uma UDF, use as funções SQL do PySpark para eficiência e para evitar problemas de serialização.\n",
        "# Use when e otherwise para criar a coluna 'is_fraud'.\n",
        "from pyspark.sql.functions import when\n",
        "from pyspark.sql.types import DoubleType\n",
        "\n",
        "train = train.withColumn(\"is_fraud\", when(train.fraude > 0, 1.0).otherwise(0.0).cast(DoubleType()))\n",
        "\n",
        "# Apply the same transformation to the test DataFrame\n",
        "test = test.withColumn(\"is_fraud\", when(test.fraude > 0, 1.0).otherwise(0.0).cast(DoubleType()))\n",
        "\n",
        "# is_fraud = udf(lambda fraud: 1.0 if fraud > 0 else 0.0, DoubleType())\n",
        "# train = train.withColumn(\"is_fraud\", is_fraud(train.fraude))"
      ],
      "metadata": {
        "id": "nlS3AtT-U8p9"
      },
      "execution_count": 13,
      "outputs": []
    },
    {
      "cell_type": "code",
      "source": [
        "train.printSchema()"
      ],
      "metadata": {
        "colab": {
          "base_uri": "https://localhost:8080/"
        },
        "id": "tbE0PkeMWUF0",
        "outputId": "98f24fb6-1b14-40bc-b121-b5623f63326f"
      },
      "execution_count": 14,
      "outputs": [
        {
          "output_type": "stream",
          "name": "stdout",
          "text": [
            "root\n",
            " |-- id_transacao: integer (nullable = true)\n",
            " |-- valor: double (nullable = true)\n",
            " |-- chave_pix: string (nullable = true)\n",
            " |-- categoria: string (nullable = true)\n",
            " |-- transaction_date: string (nullable = true)\n",
            " |-- fraude: integer (nullable = true)\n",
            " |-- destinatario_nome: string (nullable = true)\n",
            " |-- destinatario_banco: string (nullable = true)\n",
            " |-- destinatario_tipo: string (nullable = true)\n",
            " |-- destinatario_nome_index: double (nullable = false)\n",
            " |-- destinatario_banco_index: double (nullable = false)\n",
            " |-- destinatario_tipo_index: double (nullable = false)\n",
            " |-- categoria_index: double (nullable = false)\n",
            " |-- chave_pix_index: double (nullable = false)\n",
            " |-- is_fraud: double (nullable = false)\n",
            "\n"
          ]
        }
      ]
    },
    {
      "cell_type": "code",
      "source": [
        "test.printSchema()"
      ],
      "metadata": {
        "colab": {
          "base_uri": "https://localhost:8080/"
        },
        "id": "x3jDv9AOi9gp",
        "outputId": "19d572b2-92ef-4f72-c0be-7414c40152ce"
      },
      "execution_count": 15,
      "outputs": [
        {
          "output_type": "stream",
          "name": "stdout",
          "text": [
            "root\n",
            " |-- id_transacao: integer (nullable = true)\n",
            " |-- valor: double (nullable = true)\n",
            " |-- chave_pix: string (nullable = true)\n",
            " |-- categoria: string (nullable = true)\n",
            " |-- transaction_date: string (nullable = true)\n",
            " |-- fraude: integer (nullable = true)\n",
            " |-- destinatario_nome: string (nullable = true)\n",
            " |-- destinatario_banco: string (nullable = true)\n",
            " |-- destinatario_tipo: string (nullable = true)\n",
            " |-- destinatario_nome_index: double (nullable = false)\n",
            " |-- destinatario_banco_index: double (nullable = false)\n",
            " |-- destinatario_tipo_index: double (nullable = false)\n",
            " |-- categoria_index: double (nullable = false)\n",
            " |-- chave_pix_index: double (nullable = false)\n",
            " |-- is_fraud: double (nullable = false)\n",
            "\n"
          ]
        }
      ]
    },
    {
      "cell_type": "code",
      "source": [
        "from pyspark.ml.classification import LogisticRegression\n",
        "from pyspark.ml.feature import VectorAssembler\n",
        "from pyspark.ml import Pipeline\n",
        "\n",
        "assembler = VectorAssembler(\n",
        "    inputCols=[x for x in train.columns if x not in [\n",
        "        \"transaction_date\",\n",
        "        \"fraude\",\n",
        "        \"chave_pix\",\n",
        "        \"categoria\",\n",
        "        \"destinatario_nome\",\n",
        "        \"destinatario_banco\",\n",
        "        \"destinatario_tipo\"\n",
        "        ]],\n",
        "    outputCol=\"features\"\n",
        ")"
      ],
      "metadata": {
        "id": "A1tTHq8gWj4f"
      },
      "execution_count": 16,
      "outputs": []
    },
    {
      "cell_type": "code",
      "source": [
        "lr = LogisticRegression().setParams(\n",
        "    maxIter=100000,\n",
        "    labelCol=\"is_fraud\",\n",
        "    predictionCol=\"prediction\"\n",
        ")"
      ],
      "metadata": {
        "id": "e3lAWoOsdW5l"
      },
      "execution_count": 17,
      "outputs": []
    },
    {
      "cell_type": "code",
      "source": [
        "model = Pipeline(stages=[assembler, lr]).fit(train)"
      ],
      "metadata": {
        "id": "pU9fINateDcT"
      },
      "execution_count": 18,
      "outputs": []
    },
    {
      "cell_type": "code",
      "source": [
        "predicted = model.transform(test)"
      ],
      "metadata": {
        "id": "FbT9YBS0iI5F"
      },
      "execution_count": 19,
      "outputs": []
    },
    {
      "cell_type": "code",
      "source": [
        "predicted.show()"
      ],
      "metadata": {
        "colab": {
          "base_uri": "https://localhost:8080/"
        },
        "id": "X13fUJ2CiKnw",
        "outputId": "72f714f6-ba5a-4236-a61f-a46f059bf283"
      },
      "execution_count": 20,
      "outputs": [
        {
          "output_type": "stream",
          "name": "stdout",
          "text": [
            "+------------+--------+---------+-------------+-------------------+------+--------------------+------------------+-----------------+-----------------------+------------------------+-----------------------+---------------+---------------+--------+--------------------+--------------------+--------------------+----------+\n",
            "|id_transacao|   valor|chave_pix|    categoria|   transaction_date|fraude|   destinatario_nome|destinatario_banco|destinatario_tipo|destinatario_nome_index|destinatario_banco_index|destinatario_tipo_index|categoria_index|chave_pix_index|is_fraud|            features|       rawPrediction|         probability|prediction|\n",
            "+------------+--------+---------+-------------+-------------------+------+--------------------+------------------+-----------------+-----------------------+------------------------+-----------------------+---------------+---------------+--------+--------------------+--------------------+--------------------+----------+\n",
            "|        1011|21345.91|      cpf|transferencia|2021-10-31 04:31:51|     1|   Felipe Cavalcanti|            Nubank|               PJ|                 5897.0|                     2.0|                    0.0|            0.0|            1.0|     1.0|[1011.0,21345.91,...|[-18.256855132988...|[1.17800885147182...|       1.0|\n",
            "|        1027|75786.55|  celular|transferencia|2021-10-20 19:39:46|     1|      Otavio Freitas|            Nubank|               PF|                  341.0|                     2.0|                    1.0|            0.0|            2.0|     1.0|[1027.0,75786.55,...|[-19.020127193488...|[5.49115512112769...|       1.0|\n",
            "|        1038|86418.48|    email|transferencia|2021-11-23 13:32:51|     1|         Isis Farias|             Caixa|               PJ|                 2628.0|                     4.0|                    0.0|            0.0|            0.0|     1.0|[1038.0,86418.48,...|[-19.169290195183...|[4.73023856133563...|       1.0|\n",
            "|        1066|87812.62|  celular|transferencia|2022-05-07 08:23:02|     1|       Joana Barbosa|             Caixa|               PJ|                12610.0|                     4.0|                    0.0|            0.0|            2.0|     1.0|[1066.0,87812.62,...|[-19.223704052848...|[4.47972553310675...|       1.0|\n",
            "|        1069|48297.18|  celular|transferencia|2021-04-10 15:10:51|     1|          Nina Jesus|          Bradesco|               PF|                 3088.0|                     6.0|                    1.0|            0.0|            2.0|     1.0|[1069.0,48297.18,...|[-18.624426612591...|[8.15669625430537...|       1.0|\n",
            "|        1100|34793.98|    email|transferencia|2021-01-17 11:59:46|     1|Dr. Luiz Gustavo ...|              Itau|               PF|                18369.0|                     3.0|                    1.0|            0.0|            0.0|     1.0|[1100.0,34793.98,...|[-18.471133085192...|[9.50799232464609...|       1.0|\n",
            "|        1120|45131.35|aleatoria|transferencia|2022-01-22 01:55:24|     1|       Joaquim Cunha|              Itau|               PF|                 4262.0|                     3.0|                    1.0|            0.0|            3.0|     1.0|[1120.0,45131.35,...|[-18.593844554576...|[8.40999831778758...|       1.0|\n",
            "|        1136|37926.52|  celular|transferencia|2021-12-07 19:35:51|     1|Sra. Emanuella Me...|                C6|               PJ|                24117.0|                     5.0|                    0.0|            0.0|            2.0|     1.0|[1136.0,37926.52,...|[-18.538502320856...|[8.88854622761598...|       1.0|\n",
            "|        1137|54317.83|    email|transferencia|2021-08-28 10:31:35|     1|      Gabriel Farias|              Itau|               PJ|                 5945.0|                     3.0|                    0.0|            0.0|            0.0|     1.0|[1137.0,54317.83,...|[-18.721691244800...|[7.40069995865936...|       1.0|\n",
            "|        1152|38907.48|  celular|transferencia|2021-02-07 04:17:16|     1|       Alice Azevedo|            Nubank|               PJ|                 1192.0|                     2.0|                    0.0|            0.0|            2.0|     1.0|[1152.0,38907.48,...|[-18.499501644304...|[9.24205425949786...|       1.0|\n",
            "|        1154|32825.54|  celular|transferencia|2022-07-25 20:07:56|     1|       Caua da Costa|          Bradesco|               PJ|                 3730.0|                     6.0|                    0.0|            0.0|            2.0|     1.0|[1154.0,32825.54,...|[-18.409252516600...|[1.01149376878588...|       1.0|\n",
            "|        1165| 68717.9|  celular|transferencia|2021-07-28 04:26:56|     1|   Dr. Kaique Duarte|                C6|               PF|                14147.0|                     5.0|                    1.0|            0.0|            2.0|     1.0|[1165.0,68717.9,1...|[-18.948008930321...|[5.90179711753102...|       1.0|\n",
            "|        1186|47684.29|      cpf|transferencia|2021-07-09 14:17:11|     1|Dr. Gustavo Henri...|          Bradesco|               PJ|                17690.0|                     6.0|                    0.0|            0.0|            1.0|     1.0|[1186.0,47684.29,...|[-18.654431234049...|[7.91559286875351...|       1.0|\n",
            "|        1193|79174.38|aleatoria|transferencia|2022-10-22 06:42:08|     1|        Calebe Porto|                C6|               PF|                 3670.0|                     5.0|                    1.0|            0.0|            3.0|     1.0|[1193.0,79174.38,...|[-19.073872554775...|[5.20382159076859...|       1.0|\n",
            "|        1232|48993.64|      cpf|transferencia|2021-12-06 08:48:14|     1|Srta. Isadora Nas...|                XP|               PJ|                26324.0|                     0.0|                    0.0|            0.0|            1.0|     1.0|[1232.0,48993.64,...|[-18.710959889462...|[7.48054716717969...|       1.0|\n",
            "|        1234|42959.57|  celular|transferencia|2021-04-16 23:50:25|     1|Maria Eduarda Car...|                C6|               PF|                   55.0|                     5.0|                    1.0|            0.0|            2.0|     1.0|[1234.0,42959.57,...|[-18.542600893996...|[8.85219042546367...|       1.0|\n",
            "|        1283|36345.31|  celular|transferencia|2021-08-08 19:37:56|     1|    Rafaela Teixeira|            Nubank|               PJ|                 4920.0|                     2.0|                    0.0|            0.0|            2.0|     1.0|[1283.0,36345.31,...|[-18.472701251605...|[9.49309389523459...|       1.0|\n",
            "|        1305|85179.93|      cpf|transferencia|2021-03-07 10:57:20|     1|  Dra. Mirella Moura|               BTG|               PF|                14765.0|                     1.0|                    1.0|            0.0|            1.0|     1.0|[1305.0,85179.93,...|[-19.190874975505...|[4.62923143154125...|       1.0|\n",
            "|        1320|77228.12|  celular|transferencia|2021-10-21 06:14:15|     1|        Sophie Rocha|                XP|               PJ|                 3225.0|                     0.0|                    0.0|            0.0|            2.0|     1.0|[1320.0,77228.12,...|[-19.057605163337...|[5.28916648043420...|       1.0|\n",
            "|        1331|71392.99|      cpf|transferencia|2021-12-24 17:29:48|     1|        Yuri Pereira|              Itau|               PF|                 7357.0|                     3.0|                    1.0|            0.0|            1.0|     1.0|[1331.0,71392.99,...|[-18.969233177609...|[5.77785584945316...|       1.0|\n",
            "+------------+--------+---------+-------------+-------------------+------+--------------------+------------------+-----------------+-----------------------+------------------------+-----------------------+---------------+---------------+--------+--------------------+--------------------+--------------------+----------+\n",
            "only showing top 20 rows\n",
            "\n"
          ]
        }
      ]
    },
    {
      "cell_type": "code",
      "source": [
        "predicted = predicted.withColumn(\"is_fraud\", when(predicted.fraude > 0, 1.0).otherwise(0.0).cast(DoubleType()))\n",
        "predicted.crosstab(\"is_fraud\", \"prediction\").show()"
      ],
      "metadata": {
        "colab": {
          "base_uri": "https://localhost:8080/"
        },
        "id": "JCrbYz7uj4ke",
        "outputId": "5a82b126-2ed4-43d0-e155-7ddf413708c8"
      },
      "execution_count": 21,
      "outputs": [
        {
          "output_type": "stream",
          "name": "stdout",
          "text": [
            "+-------------------+---+----+\n",
            "|is_fraud_prediction|0.0| 1.0|\n",
            "+-------------------+---+----+\n",
            "|                1.0|  0|4682|\n",
            "|                0.0|242|   0|\n",
            "+-------------------+---+----+\n",
            "\n"
          ]
        }
      ]
    },
    {
      "cell_type": "code",
      "source": [
        "from pyspark.sql.types import StructType, StructField, DoubleType, StringType, IntegerType\n",
        "\n",
        "# Define schema explicitamente para garantir os tipos\n",
        "schema_test = StructType([\n",
        "    StructField(\"valor\", DoubleType(), True),\n",
        "    StructField(\"transaction_date\", StringType(), True),\n",
        "    StructField(\"destinatario_nome_index\", DoubleType(), True),\n",
        "    StructField(\"destinatario_banco_index\", DoubleType(), True),\n",
        "    StructField(\"destinatario_tipo_index\", DoubleType(), True),\n",
        "    StructField(\"categoria_index\", DoubleType(), True),\n",
        "    StructField(\"chave_pix_index\", DoubleType(), True),\n",
        "    StructField(\"fraude\", IntegerType(), True)\n",
        "])\n",
        "\n",
        "df_test_data = [\n",
        "    (103.2, \"2023-01-01 11:56:41\", 328.0, 4.0, 1.0, 3.0, 5.0, 0),\n",
        "    (500000.0, \"2023-01-01 11:56:41\", 328.0, 2.0, 3.0, 2.0, 5.0, 1),\n",
        "    (19999.0, \"2023-01-01 11:56:41\", 328.0, 1.0, 2.0, 1.0, 5.0, 0),\n",
        "]\n",
        "\n",
        "df_test = spark.createDataFrame(df_test_data, schema=schema_test)\n",
        "df_test.show()\n"
      ],
      "metadata": {
        "id": "6Tlb8j-fkBYt"
      },
      "execution_count": null,
      "outputs": []
    }
  ]
}